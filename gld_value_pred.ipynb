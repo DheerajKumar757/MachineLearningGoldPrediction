{
 "cells": [
  {
   "cell_type": "code",
   "execution_count": 1,
   "id": "2aaf7f89",
   "metadata": {},
   "outputs": [],
   "source": [
    "import numpy as np\n",
    "import pandas as pd\n",
    "import matplotlib.pyplot as plt\n",
    "import seaborn as sns\n",
    "from sklearn.model_selection import train_test_split\n",
    "from sklearn.ensemble import RandomForestRegressor\n",
    "from sklearn import metrics\n",
    "import pickle\n",
    "\n",
    "%matplotlib inline"
   ]
  },
  {
   "cell_type": "code",
   "execution_count": 2,
   "id": "f08618b1",
   "metadata": {},
   "outputs": [],
   "source": [
    "gold_data = pd.read_csv('gld_price_data.csv')"
   ]
  },
  {
   "cell_type": "code",
   "execution_count": 3,
   "id": "0465bcaf",
   "metadata": {},
   "outputs": [
    {
     "data": {
      "text/html": [
       "<div>\n",
       "<style scoped>\n",
       "    .dataframe tbody tr th:only-of-type {\n",
       "        vertical-align: middle;\n",
       "    }\n",
       "\n",
       "    .dataframe tbody tr th {\n",
       "        vertical-align: top;\n",
       "    }\n",
       "\n",
       "    .dataframe thead th {\n",
       "        text-align: right;\n",
       "    }\n",
       "</style>\n",
       "<table border=\"1\" class=\"dataframe\">\n",
       "  <thead>\n",
       "    <tr style=\"text-align: right;\">\n",
       "      <th></th>\n",
       "      <th>Date</th>\n",
       "      <th>SPX</th>\n",
       "      <th>GLD</th>\n",
       "      <th>USO</th>\n",
       "      <th>SLV</th>\n",
       "      <th>EUR/USD</th>\n",
       "    </tr>\n",
       "  </thead>\n",
       "  <tbody>\n",
       "    <tr>\n",
       "      <th>0</th>\n",
       "      <td>1/2/2008</td>\n",
       "      <td>1447.160034</td>\n",
       "      <td>84.860001</td>\n",
       "      <td>78.470001</td>\n",
       "      <td>15.180</td>\n",
       "      <td>1.471692</td>\n",
       "    </tr>\n",
       "    <tr>\n",
       "      <th>1</th>\n",
       "      <td>1/3/2008</td>\n",
       "      <td>1447.160034</td>\n",
       "      <td>85.570000</td>\n",
       "      <td>78.370003</td>\n",
       "      <td>15.285</td>\n",
       "      <td>1.474491</td>\n",
       "    </tr>\n",
       "    <tr>\n",
       "      <th>2</th>\n",
       "      <td>1/4/2008</td>\n",
       "      <td>1411.630005</td>\n",
       "      <td>85.129997</td>\n",
       "      <td>77.309998</td>\n",
       "      <td>15.167</td>\n",
       "      <td>1.475492</td>\n",
       "    </tr>\n",
       "    <tr>\n",
       "      <th>3</th>\n",
       "      <td>1/7/2008</td>\n",
       "      <td>1416.180054</td>\n",
       "      <td>84.769997</td>\n",
       "      <td>75.500000</td>\n",
       "      <td>15.053</td>\n",
       "      <td>1.468299</td>\n",
       "    </tr>\n",
       "    <tr>\n",
       "      <th>4</th>\n",
       "      <td>1/8/2008</td>\n",
       "      <td>1390.189941</td>\n",
       "      <td>86.779999</td>\n",
       "      <td>76.059998</td>\n",
       "      <td>15.590</td>\n",
       "      <td>1.557099</td>\n",
       "    </tr>\n",
       "  </tbody>\n",
       "</table>\n",
       "</div>"
      ],
      "text/plain": [
       "       Date          SPX        GLD        USO     SLV   EUR/USD\n",
       "0  1/2/2008  1447.160034  84.860001  78.470001  15.180  1.471692\n",
       "1  1/3/2008  1447.160034  85.570000  78.370003  15.285  1.474491\n",
       "2  1/4/2008  1411.630005  85.129997  77.309998  15.167  1.475492\n",
       "3  1/7/2008  1416.180054  84.769997  75.500000  15.053  1.468299\n",
       "4  1/8/2008  1390.189941  86.779999  76.059998  15.590  1.557099"
      ]
     },
     "execution_count": 3,
     "metadata": {},
     "output_type": "execute_result"
    }
   ],
   "source": [
    "gold_data.head()"
   ]
  },
  {
   "cell_type": "code",
   "execution_count": 4,
   "id": "5ac9763a",
   "metadata": {},
   "outputs": [
    {
     "data": {
      "text/html": [
       "<div>\n",
       "<style scoped>\n",
       "    .dataframe tbody tr th:only-of-type {\n",
       "        vertical-align: middle;\n",
       "    }\n",
       "\n",
       "    .dataframe tbody tr th {\n",
       "        vertical-align: top;\n",
       "    }\n",
       "\n",
       "    .dataframe thead th {\n",
       "        text-align: right;\n",
       "    }\n",
       "</style>\n",
       "<table border=\"1\" class=\"dataframe\">\n",
       "  <thead>\n",
       "    <tr style=\"text-align: right;\">\n",
       "      <th></th>\n",
       "      <th>Date</th>\n",
       "      <th>SPX</th>\n",
       "      <th>GLD</th>\n",
       "      <th>USO</th>\n",
       "      <th>SLV</th>\n",
       "      <th>EUR/USD</th>\n",
       "    </tr>\n",
       "  </thead>\n",
       "  <tbody>\n",
       "    <tr>\n",
       "      <th>2285</th>\n",
       "      <td>5/8/2018</td>\n",
       "      <td>2671.919922</td>\n",
       "      <td>124.589996</td>\n",
       "      <td>14.0600</td>\n",
       "      <td>15.5100</td>\n",
       "      <td>1.186789</td>\n",
       "    </tr>\n",
       "    <tr>\n",
       "      <th>2286</th>\n",
       "      <td>5/9/2018</td>\n",
       "      <td>2697.790039</td>\n",
       "      <td>124.330002</td>\n",
       "      <td>14.3700</td>\n",
       "      <td>15.5300</td>\n",
       "      <td>1.184722</td>\n",
       "    </tr>\n",
       "    <tr>\n",
       "      <th>2287</th>\n",
       "      <td>5/10/2018</td>\n",
       "      <td>2723.070068</td>\n",
       "      <td>125.180000</td>\n",
       "      <td>14.4100</td>\n",
       "      <td>15.7400</td>\n",
       "      <td>1.191753</td>\n",
       "    </tr>\n",
       "    <tr>\n",
       "      <th>2288</th>\n",
       "      <td>5/14/2018</td>\n",
       "      <td>2730.129883</td>\n",
       "      <td>124.489998</td>\n",
       "      <td>14.3800</td>\n",
       "      <td>15.5600</td>\n",
       "      <td>1.193118</td>\n",
       "    </tr>\n",
       "    <tr>\n",
       "      <th>2289</th>\n",
       "      <td>5/16/2018</td>\n",
       "      <td>2725.780029</td>\n",
       "      <td>122.543800</td>\n",
       "      <td>14.4058</td>\n",
       "      <td>15.4542</td>\n",
       "      <td>1.182033</td>\n",
       "    </tr>\n",
       "  </tbody>\n",
       "</table>\n",
       "</div>"
      ],
      "text/plain": [
       "           Date          SPX         GLD      USO      SLV   EUR/USD\n",
       "2285   5/8/2018  2671.919922  124.589996  14.0600  15.5100  1.186789\n",
       "2286   5/9/2018  2697.790039  124.330002  14.3700  15.5300  1.184722\n",
       "2287  5/10/2018  2723.070068  125.180000  14.4100  15.7400  1.191753\n",
       "2288  5/14/2018  2730.129883  124.489998  14.3800  15.5600  1.193118\n",
       "2289  5/16/2018  2725.780029  122.543800  14.4058  15.4542  1.182033"
      ]
     },
     "execution_count": 4,
     "metadata": {},
     "output_type": "execute_result"
    }
   ],
   "source": [
    "gold_data.tail()"
   ]
  },
  {
   "cell_type": "code",
   "execution_count": 5,
   "id": "c0590754",
   "metadata": {},
   "outputs": [
    {
     "data": {
      "text/plain": [
       "(2290, 6)"
      ]
     },
     "execution_count": 5,
     "metadata": {},
     "output_type": "execute_result"
    }
   ],
   "source": [
    "gold_data.shape"
   ]
  },
  {
   "cell_type": "code",
   "execution_count": 6,
   "id": "828a6a7a",
   "metadata": {},
   "outputs": [
    {
     "name": "stdout",
     "output_type": "stream",
     "text": [
      "<class 'pandas.core.frame.DataFrame'>\n",
      "RangeIndex: 2290 entries, 0 to 2289\n",
      "Data columns (total 6 columns):\n",
      " #   Column   Non-Null Count  Dtype  \n",
      "---  ------   --------------  -----  \n",
      " 0   Date     2290 non-null   object \n",
      " 1   SPX      2290 non-null   float64\n",
      " 2   GLD      2290 non-null   float64\n",
      " 3   USO      2290 non-null   float64\n",
      " 4   SLV      2290 non-null   float64\n",
      " 5   EUR/USD  2290 non-null   float64\n",
      "dtypes: float64(5), object(1)\n",
      "memory usage: 107.5+ KB\n"
     ]
    }
   ],
   "source": [
    "gold_data.info()"
   ]
  },
  {
   "cell_type": "code",
   "execution_count": 7,
   "id": "eb7b55dd",
   "metadata": {},
   "outputs": [
    {
     "data": {
      "text/plain": [
       "Date       0\n",
       "SPX        0\n",
       "GLD        0\n",
       "USO        0\n",
       "SLV        0\n",
       "EUR/USD    0\n",
       "dtype: int64"
      ]
     },
     "execution_count": 7,
     "metadata": {},
     "output_type": "execute_result"
    }
   ],
   "source": [
    "gold_data.isnull().sum()"
   ]
  },
  {
   "cell_type": "code",
   "execution_count": 8,
   "id": "a822c40f",
   "metadata": {},
   "outputs": [
    {
     "data": {
      "text/html": [
       "<div>\n",
       "<style scoped>\n",
       "    .dataframe tbody tr th:only-of-type {\n",
       "        vertical-align: middle;\n",
       "    }\n",
       "\n",
       "    .dataframe tbody tr th {\n",
       "        vertical-align: top;\n",
       "    }\n",
       "\n",
       "    .dataframe thead th {\n",
       "        text-align: right;\n",
       "    }\n",
       "</style>\n",
       "<table border=\"1\" class=\"dataframe\">\n",
       "  <thead>\n",
       "    <tr style=\"text-align: right;\">\n",
       "      <th></th>\n",
       "      <th>SPX</th>\n",
       "      <th>GLD</th>\n",
       "      <th>USO</th>\n",
       "      <th>SLV</th>\n",
       "      <th>EUR/USD</th>\n",
       "    </tr>\n",
       "  </thead>\n",
       "  <tbody>\n",
       "    <tr>\n",
       "      <th>count</th>\n",
       "      <td>2290.000000</td>\n",
       "      <td>2290.000000</td>\n",
       "      <td>2290.000000</td>\n",
       "      <td>2290.000000</td>\n",
       "      <td>2290.000000</td>\n",
       "    </tr>\n",
       "    <tr>\n",
       "      <th>mean</th>\n",
       "      <td>1654.315776</td>\n",
       "      <td>122.732875</td>\n",
       "      <td>31.842221</td>\n",
       "      <td>20.084997</td>\n",
       "      <td>1.283653</td>\n",
       "    </tr>\n",
       "    <tr>\n",
       "      <th>std</th>\n",
       "      <td>519.111540</td>\n",
       "      <td>23.283346</td>\n",
       "      <td>19.523517</td>\n",
       "      <td>7.092566</td>\n",
       "      <td>0.131547</td>\n",
       "    </tr>\n",
       "    <tr>\n",
       "      <th>min</th>\n",
       "      <td>676.530029</td>\n",
       "      <td>70.000000</td>\n",
       "      <td>7.960000</td>\n",
       "      <td>8.850000</td>\n",
       "      <td>1.039047</td>\n",
       "    </tr>\n",
       "    <tr>\n",
       "      <th>25%</th>\n",
       "      <td>1239.874969</td>\n",
       "      <td>109.725000</td>\n",
       "      <td>14.380000</td>\n",
       "      <td>15.570000</td>\n",
       "      <td>1.171313</td>\n",
       "    </tr>\n",
       "    <tr>\n",
       "      <th>50%</th>\n",
       "      <td>1551.434998</td>\n",
       "      <td>120.580002</td>\n",
       "      <td>33.869999</td>\n",
       "      <td>17.268500</td>\n",
       "      <td>1.303297</td>\n",
       "    </tr>\n",
       "    <tr>\n",
       "      <th>75%</th>\n",
       "      <td>2073.010070</td>\n",
       "      <td>132.840004</td>\n",
       "      <td>37.827501</td>\n",
       "      <td>22.882500</td>\n",
       "      <td>1.369971</td>\n",
       "    </tr>\n",
       "    <tr>\n",
       "      <th>max</th>\n",
       "      <td>2872.870117</td>\n",
       "      <td>184.589996</td>\n",
       "      <td>117.480003</td>\n",
       "      <td>47.259998</td>\n",
       "      <td>1.598798</td>\n",
       "    </tr>\n",
       "  </tbody>\n",
       "</table>\n",
       "</div>"
      ],
      "text/plain": [
       "               SPX          GLD          USO          SLV      EUR/USD\n",
       "count  2290.000000  2290.000000  2290.000000  2290.000000  2290.000000\n",
       "mean   1654.315776   122.732875    31.842221    20.084997     1.283653\n",
       "std     519.111540    23.283346    19.523517     7.092566     0.131547\n",
       "min     676.530029    70.000000     7.960000     8.850000     1.039047\n",
       "25%    1239.874969   109.725000    14.380000    15.570000     1.171313\n",
       "50%    1551.434998   120.580002    33.869999    17.268500     1.303297\n",
       "75%    2073.010070   132.840004    37.827501    22.882500     1.369971\n",
       "max    2872.870117   184.589996   117.480003    47.259998     1.598798"
      ]
     },
     "execution_count": 8,
     "metadata": {},
     "output_type": "execute_result"
    }
   ],
   "source": [
    "gold_data.describe()"
   ]
  },
  {
   "cell_type": "code",
   "execution_count": 9,
   "id": "6b66fd34",
   "metadata": {},
   "outputs": [],
   "source": [
    "correlation = gold_data.corr()"
   ]
  },
  {
   "cell_type": "code",
   "execution_count": 10,
   "id": "1d45fb7c",
   "metadata": {},
   "outputs": [
    {
     "data": {
      "text/plain": [
       "<AxesSubplot:>"
      ]
     },
     "execution_count": 10,
     "metadata": {},
     "output_type": "execute_result"
    },
    {
     "data": {
      "image/png": "[encoded data removed]",
      "text/plain": [
       "<Figure size 576x576 with 2 Axes>"
      ]
     },
     "metadata": {
      "needs_background": "light"
     },
     "output_type": "display_data"
    }
   ],
   "source": [
    "plt.figure(figsize= (8, 8))\n",
    "sns.heatmap(correlation, cbar= True, square= True, fmt= '.1f', annot= True, annot_kws={'size':8}, cmap= 'Blues')"
   ]
  },
  {
   "cell_type": "code",
   "execution_count": 11,
   "id": "549f39f0",
   "metadata": {},
   "outputs": [
    {
     "name": "stdout",
     "output_type": "stream",
     "text": [
      "SPX        0.049345\n",
      "GLD        1.000000\n",
      "USO       -0.186360\n",
      "SLV        0.866632\n",
      "EUR/USD   -0.024375\n",
      "Name: GLD, dtype: float64\n"
     ]
    }
   ],
   "source": [
    "print(correlation['GLD'])"
   ]
  },
  {
   "cell_type": "code",
   "execution_count": 12,
   "id": "4333fb16",
   "metadata": {},
   "outputs": [
    {
     "data": {
      "text/plain": [
       "<AxesSubplot:xlabel='GLD', ylabel='Count'>"
      ]
     },
     "execution_count": 12,
     "metadata": {},
     "output_type": "execute_result"
    },
    {
     "data": {
      "image/png": "[encoded data removed]",
      "text/plain": [
       "<Figure size 432x288 with 1 Axes>"
      ]
     },
     "metadata": {
      "needs_background": "light"
     },
     "output_type": "display_data"
    }
   ],
   "source": [
    "sns.histplot(gold_data['GLD'], color='r')"
   ]
  },
  {
   "cell_type": "code",
   "execution_count": 13,
   "id": "b8a3a1c7",
   "metadata": {},
   "outputs": [],
   "source": [
    "X = gold_data.drop(['Date', 'GLD'], axis= 1)\n",
    "Y = gold_data['GLD']"
   ]
  },
  {
   "cell_type": "code",
   "execution_count": 14,
   "id": "3cf6cca7",
   "metadata": {},
   "outputs": [
    {
     "name": "stdout",
     "output_type": "stream",
     "text": [
      "              SPX        USO      SLV   EUR/USD\n",
      "0     1447.160034  78.470001  15.1800  1.471692\n",
      "1     1447.160034  78.370003  15.2850  1.474491\n",
      "2     1411.630005  77.309998  15.1670  1.475492\n",
      "3     1416.180054  75.500000  15.0530  1.468299\n",
      "4     1390.189941  76.059998  15.5900  1.557099\n",
      "...           ...        ...      ...       ...\n",
      "2285  2671.919922  14.060000  15.5100  1.186789\n",
      "2286  2697.790039  14.370000  15.5300  1.184722\n",
      "2287  2723.070068  14.410000  15.7400  1.191753\n",
      "2288  2730.129883  14.380000  15.5600  1.193118\n",
      "2289  2725.780029  14.405800  15.4542  1.182033\n",
      "\n",
      "[2290 rows x 4 columns]\n"
     ]
    }
   ],
   "source": [
    "print(X)"
   ]
  },
  {
   "cell_type": "code",
   "execution_count": 15,
   "id": "442b0286",
   "metadata": {},
   "outputs": [
    {
     "name": "stdout",
     "output_type": "stream",
     "text": [
      "0        84.860001\n",
      "1        85.570000\n",
      "2        85.129997\n",
      "3        84.769997\n",
      "4        86.779999\n",
      "           ...    \n",
      "2285    124.589996\n",
      "2286    124.330002\n",
      "2287    125.180000\n",
      "2288    124.489998\n",
      "2289    122.543800\n",
      "Name: GLD, Length: 2290, dtype: float64\n"
     ]
    }
   ],
   "source": [
    "print(Y)"
   ]
  },
  {
   "cell_type": "code",
   "execution_count": 16,
   "id": "42600c56",
   "metadata": {},
   "outputs": [],
   "source": [
    "X_train, X_test, Y_train, Y_test = train_test_split(X, Y, test_size= 0.2, random_state= 2)"
   ]
  },
  {
   "cell_type": "code",
   "execution_count": 17,
   "id": "2700ce7e",
   "metadata": {},
   "outputs": [],
   "source": [
    "regressor = RandomForestRegressor(n_estimators= 100)"
   ]
  },
  {
   "cell_type": "code",
   "execution_count": 18,
   "id": "5e88cf0f",
   "metadata": {},
   "outputs": [
    {
     "data": {
      "text/plain": [
       "RandomForestRegressor()"
      ]
     },
     "execution_count": 18,
     "metadata": {},
     "output_type": "execute_result"
    }
   ],
   "source": [
    "regressor.fit(X_train, Y_train)"
   ]
  },
  {
   "cell_type": "code",
   "execution_count": 19,
   "id": "e4a2c32f",
   "metadata": {},
   "outputs": [],
   "source": [
    "test_data_prediction = regressor.predict(X_test)"
   ]
  },
  {
   "cell_type": "code",
   "execution_count": 20,
   "id": "5b8abe3f",
   "metadata": {},
   "outputs": [],
   "source": [
    "pickle.dump(regressor, open('gld_value.pkl', 'wb'))"
   ]
  },
  {
   "cell_type": "code",
   "execution_count": 21,
   "id": "4560b505",
   "metadata": {},
   "outputs": [],
   "source": [
    "loadedModel = pickle.load(open('gld_value.pkl', 'rb'))"
   ]
  },
  {
   "cell_type": "code",
   "execution_count": 22,
   "id": "3b6a23ff",
   "metadata": {},
   "outputs": [
    {
     "name": "stdout",
     "output_type": "stream",
     "text": [
      "[84.99470025]\n"
     ]
    }
   ],
   "source": [
    "print(loadedModel.predict([[1447.160034,  78.470001,  15.1800,  1.471692]]))"
   ]
  },
  {
   "cell_type": "code",
   "execution_count": 23,
   "id": "62a1b98a",
   "metadata": {},
   "outputs": [
    {
     "name": "stdout",
     "output_type": "stream",
     "text": [
      "[84.99470025]\n"
     ]
    }
   ],
   "source": [
    "print(regressor.predict([[1447.160034,  78.470001,  15.1800,  1.471692]]))"
   ]
  },
  {
   "cell_type": "code",
   "execution_count": 24,
   "id": "642a17c4",
   "metadata": {},
   "outputs": [
    {
     "name": "stdout",
     "output_type": "stream",
     "text": [
      "[168.68289948  81.94509999 115.94230019 127.58180044 120.74390142\n",
      " 154.74929731 150.50329845 126.14190052 117.39709895 126.06340097\n",
      " 116.51470111 172.37950088 141.99489886 167.88829818 115.3059997\n",
      " 117.4872005  140.2572031  170.10510021 159.65480292 159.05179888\n",
      " 155.05950018 125.15689957 176.35609961 156.86730303 125.1464004\n",
      "  93.78730002  77.24250011 120.47530004 119.17629974 167.43809984\n",
      "  88.1316005  125.23450042  91.03300072 117.62660016 121.06819925\n",
      " 136.41600088 115.49500139 115.16980061 147.9268999  107.48650097\n",
      " 103.59480233  87.28419807 126.55270056 117.91709993 152.77169907\n",
      " 119.60419986 108.37180026 107.94449808  93.19460048 127.28799748\n",
      "  74.83500044 113.65579954 121.66970004 111.45149927 118.78779871\n",
      " 120.9353992  158.59610146 167.13990033 147.06009717  85.86539852\n",
      "  94.5134004   86.92639903  90.44210004 118.9237005  126.34650084\n",
      " 127.65       170.59740032 122.28919937 117.53119897  98.38240033\n",
      " 168.05010123 143.18089864 131.98830252 121.16700196 121.30249939\n",
      " 119.78330063 114.52690156 118.44400079 107.35760099 127.93900033\n",
      " 113.99469944 107.29719994 117.0375005  119.57069867  89.13460072\n",
      "  88.17989874 146.9961017  127.29520042 113.56889966 109.89369816\n",
      " 108.17369919  77.24559928 168.49430201 114.08439892 121.59849908\n",
      " 127.94700163 155.06799882  91.74209952 137.19040175 158.99590308\n",
      " 124.95250037 125.30890042 130.7253023  114.79910103 119.94040012\n",
      "  92.05629986 110.19769881 169.49489941 157.77489914 114.20899931\n",
      " 106.49840103  79.43950004 113.19580025 125.75780093 107.16269967\n",
      " 119.4126008  155.51980316 159.01099923 120.11449978 135.05300163\n",
      " 101.45329989 117.619398   119.38440022 112.99360077 102.7665989\n",
      " 160.03079714  99.19210023 147.96339819 125.54770102 169.42609897\n",
      " 125.81969878 127.25529778 127.41060194 113.77599918 112.71050072\n",
      " 123.58669883 102.07629881  89.41439985 124.58439955 101.63469944\n",
      " 107.07649911 113.24770053 117.42000051  99.35399969 121.67800064\n",
      " 163.02149907  87.47959917 106.76359966 117.12300081 127.78150159\n",
      " 124.06510055  80.7565994  120.29660085 156.53289919  87.9537996\n",
      " 110.39009992 118.85289897 172.85759821 102.92719874 105.31670053\n",
      " 122.44510014 157.43869841  87.30399843  92.89340022 112.45030013\n",
      " 177.50549958 114.59929999 119.3957002   94.74660088 125.48620009\n",
      " 166.21570129 114.85040031 116.722401    88.23689876 148.8964004\n",
      " 120.4966993   89.60899959 111.88189993 117.0952006  118.83380131\n",
      "  88.10149939  94.07820009 117.26680038 118.35110195 120.36350045\n",
      " 126.7223982  121.82099981 148.36160031 164.08120143 118.55469954\n",
      " 120.37400171 150.49130061 118.82989893 172.74809869 105.41679916\n",
      " 104.89660142 149.98610102 113.82040048 124.9773011  147.4564005\n",
      " 119.49970092 115.36680076 112.40179991 113.44120185 142.110901\n",
      " 117.87539772 102.95580045 115.80980071 103.06570171  98.87680031\n",
      " 117.43810079  90.68239993  91.55560027 153.58749852 102.69559985\n",
      " 155.05310083 114.28200163 138.51490053  90.1233981  115.52429953\n",
      " 114.6660995  123.31340009 121.64099998 165.27420071  92.85779979\n",
      " 135.58280123 121.32939944 120.7910007  104.61270024 141.12580312\n",
      " 122.19039943 116.59670038 113.52040108 127.13119757 122.36709964\n",
      " 125.85410035 121.23940046  86.96329906 132.14350165 144.71680172\n",
      "  92.71519955 157.68209933 158.22460298 126.33959895 164.57540052\n",
      " 108.89479948 109.8457009  103.56659842  94.30610035 127.95270287\n",
      " 107.02090058 161.1838993  121.73780009 131.97969971 130.71070194\n",
      " 160.78710018  90.18319843 174.9184014  127.51689964 126.78869833\n",
      "  86.48179938 124.39689914 150.62949734  89.67859985 106.84489955\n",
      " 109.0533      84.04559913 136.46799919 155.31060199 138.95080311\n",
      "  74.34680043 152.22120071 125.76709954 126.75690019 127.57049867\n",
      " 108.62349916 156.4350996  114.61870116 116.87730129 125.1348997\n",
      " 154.15050134 121.35609998 156.41099901  92.99870055 125.45920124\n",
      " 126.05500014  87.85840038  92.26739919 126.21109977 128.36050362\n",
      " 113.27160087 117.6424974  120.9500003  127.18049792 119.52600138\n",
      " 136.3488002   94.06339959 119.77830018 113.35620128  94.38079954\n",
      " 108.89659956  87.19889926 108.64699934  89.4926998   92.4829001\n",
      " 131.79180284 162.29110068  89.17150038 119.56030072 133.49840166\n",
      " 123.88720039 128.39840248 101.92549846  88.96479902 131.3402003\n",
      " 120.11860046 108.40619999 168.50250155 115.15360022  86.59379951\n",
      " 118.88700052  90.90149932 161.95760033 116.44560047 121.1606\n",
      " 160.29829811 120.0304993  112.51359958 108.4607987  126.66000003\n",
      "  75.88230033 102.91609975 127.80610261 121.90769883  92.62140025\n",
      " 132.09530073 118.30110103 115.83969988 154.77330243 160.16890028\n",
      " 110.09189968 155.01729863 119.38180084 160.01460162 118.73550048\n",
      " 156.70310082 115.15889961 116.40630033 148.27809792 115.01050077\n",
      " 125.99549893 165.76119965 117.94390015 125.32449943 153.30180379\n",
      " 153.50920222 132.00359959 115.02490051 121.17600188 125.06390087\n",
      "  89.83510028 123.18859993 154.87350084 111.82870045 106.63959981\n",
      " 162.06380115 118.42179976 165.6042996  134.00650087 115.15059998\n",
      " 153.13219968 168.70110032 114.28619995 114.10230109 158.51649893\n",
      "  85.4415986  127.12540053 127.78590033 128.87269989 124.29680075\n",
      " 123.85840069  90.46970077 152.81080045  96.99039983 137.5081998\n",
      "  89.24369929 107.32689994 115.18760047 112.42770089 124.16219906\n",
      "  91.35149899 125.47760139 162.21169781 119.87969886 165.24940045\n",
      " 126.80509807 112.30390036 127.45199927  94.84089916  91.13239959\n",
      " 102.76389917 120.81250027  83.32189931 126.46100031 160.87100501\n",
      " 117.33710103 118.22649981 120.24149996 122.58349946 120.21990144\n",
      " 121.59229995 118.16590058 107.09409993 148.53820031 126.26389859\n",
      " 115.78150081  73.89499993 127.92790085 153.56250084 121.94729979\n",
      " 125.60210043  88.8695998  103.3232991  124.44250029 120.22620014\n",
      "  73.42890074 151.67660064 121.50340037 104.52910005  86.22229754\n",
      " 115.00839915 172.17709855 119.87630054 159.90599747 113.23079954\n",
      " 121.26140032 118.62870073  96.06879985 118.57110012 125.91470023\n",
      " 118.44089938  95.6376006  153.96700158 121.91840013 148.04049912\n",
      " 159.54640263 113.87330021 122.51149937 149.12139808 127.14029999\n",
      " 165.86850087 136.2435999  120.30469966 167.52109796 108.24179924\n",
      " 121.70959881 138.4925005  107.00269897]\n"
     ]
    }
   ],
   "source": [
    "print(test_data_prediction)"
   ]
  },
  {
   "cell_type": "code",
   "execution_count": 25,
   "id": "cd594e7e",
   "metadata": {},
   "outputs": [
    {
     "name": "stdout",
     "output_type": "stream",
     "text": [
      "R squared eoor:  0.9892244309786312\n"
     ]
    }
   ],
   "source": [
    "error_score = metrics.r2_score(Y_test, test_data_prediction)\n",
    "print('R squared eoor: ', error_score)"
   ]
  },
  {
   "cell_type": "code",
   "execution_count": 26,
   "id": "2f3f87b0",
   "metadata": {},
   "outputs": [
    {
     "data": {
      "image/png": "[encoded data removed]",
      "text/plain": [
       "<Figure size 432x288 with 1 Axes>"
      ]
     },
     "metadata": {
      "needs_background": "light"
     },
     "output_type": "display_data"
    }
   ],
   "source": [
    "Y_test = list(Y_test)\n",
    "plt.plot(Y_test, color='blue', label='Actual value')\n",
    "plt.plot(test_data_prediction, color='green', label='Predicted value')\n",
    "plt.title('Actual price v/s Predicted price')\n",
    "plt.xlabel('Number of value')\n",
    "plt.ylabel('GLD Price')\n",
    "plt.legend()\n",
    "plt.show()"
   ]
  }
 ],
 "metadata": {
  "kernelspec": {
   "display_name": "Python 3",
   "language": "python",
   "name": "python3"
  },
  "language_info": {
   "codemirror_mode": {
    "name": "ipython",
    "version": 3
   },
   "file_extension": ".py",
   "mimetype": "text/x-python",
   "name": "python",
   "nbconvert_exporter": "python",
   "pygments_lexer": "ipython3",
   "version": "3.8.8"
  }
 },
 "nbformat": 4,
 "nbformat_minor": 5
}
